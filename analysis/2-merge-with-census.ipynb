{
 "cells": [
  {
   "cell_type": "markdown",
   "metadata": {},
   "source": [
    "# Notebook Title"
   ]
  },
  {
   "cell_type": "markdown",
   "metadata": {},
   "source": [
    "## Setup Python and R environment\n",
    "you can ignore this section"
   ]
  },
  {
   "cell_type": "code",
   "execution_count": 3,
   "metadata": {},
   "outputs": [],
   "source": [
    "%load_ext rpy2.ipython\n",
    "%load_ext autoreload\n",
    "%autoreload 2\n",
    "\n",
    "%matplotlib inline  \n",
    "from matplotlib import rcParams\n",
    "rcParams['figure.figsize'] = (16, 100)\n",
    "\n",
    "import warnings\n",
    "from rpy2.rinterface import RRuntimeWarning\n",
    "warnings.filterwarnings(\"ignore\") # Ignore all warnings\n",
    "# warnings.filterwarnings(\"ignore\", category=RRuntimeWarning) # Show some warnings\n",
    "\n",
    "import pandas as pd\n",
    "import numpy as np\n",
    "import matplotlib.pyplot as plt\n",
    "from IPython.display import display, HTML"
   ]
  },
  {
   "cell_type": "code",
   "execution_count": 4,
   "metadata": {},
   "outputs": [
    {
     "data": {
      "application/javascript": [
       "// Disable auto-scrolling\n",
       "IPython.OutputArea.prototype._should_scroll = function(lines) {\n",
       "    return false;\n",
       "}\n"
      ],
      "text/plain": [
       "<IPython.core.display.Javascript object>"
      ]
     },
     "metadata": {},
     "output_type": "display_data"
    }
   ],
   "source": [
    "%%javascript\n",
    "// Disable auto-scrolling\n",
    "IPython.OutputArea.prototype._should_scroll = function(lines) {\n",
    "    return false;\n",
    "}"
   ]
  },
  {
   "cell_type": "code",
   "execution_count": 5,
   "metadata": {},
   "outputs": [
    {
     "name": "stdout",
     "output_type": "stream",
     "text": [
      "── Attaching packages ─────────────────────────────────────── tidyverse 1.3.2 ──\n",
      "✔ ggplot2 3.5.1     ✔ purrr   1.0.1\n",
      "✔ tibble  3.2.1     ✔ dplyr   1.1.4\n",
      "✔ tidyr   1.3.0     ✔ stringr 1.5.0\n",
      "✔ readr   2.1.4     ✔ forcats 1.0.0\n",
      "── Conflicts ────────────────────────────────────────── tidyverse_conflicts() ──\n",
      "✖ dplyr::filter() masks stats::filter()\n",
      "✖ dplyr::lag()    masks stats::lag()\n"
     ]
    },
    {
     "data": {
      "text/plain": [
       "Loading required package: tidyverse\n",
       "Loading required package: data.table\n",
       "data.table 1.17.0 using 4 threads (see ?getDTthreads).  Latest news: r-datatable.com\n",
       "\n",
       "Attaching package: ‘data.table’\n",
       "\n",
       "The following objects are masked from ‘package:dplyr’:\n",
       "\n",
       "    between, first, last\n",
       "\n",
       "The following object is masked from ‘package:purrr’:\n",
       "\n",
       "    transpose\n",
       "\n",
       "In addition: Warning messages:\n",
       "1: package ‘ggplot2’ was built under R version 4.2.3 \n",
       "2: package ‘dplyr’ was built under R version 4.2.3 \n"
      ]
     },
     "metadata": {},
     "output_type": "display_data"
    }
   ],
   "source": [
    "%%R\n",
    "\n",
    "# My commonly used R imports\n",
    "\n",
    "require('tidyverse')\n",
    "require(data.table)\n"
   ]
  },
  {
   "cell_type": "markdown",
   "metadata": {},
   "source": [
    "## Load & Clean Data\n",
    "\n",
    "👉 Load the data along with the census connectors below (the output of the `connect-to-census.ipynb` notebook) and do any cleanup you'd like to do."
   ]
  },
  {
   "cell_type": "code",
   "execution_count": 6,
   "metadata": {},
   "outputs": [
    {
     "data": {
      "text/plain": [
       "|--------------------------------------------------|\n",
       "|==================================================|\n"
      ]
     },
     "metadata": {},
     "output_type": "display_data"
    }
   ],
   "source": [
    "%%R\n",
    "\n",
    "df <- fread(\"../data/2021-22-crdc-data/merged_data.csv\")"
   ]
  },
  {
   "cell_type": "markdown",
   "metadata": {},
   "source": [
    "## 👉 Grab Census Data"
   ]
  },
  {
   "cell_type": "markdown",
   "metadata": {},
   "source": [
    "1. loading the Census API key"
   ]
  },
  {
   "cell_type": "code",
   "execution_count": 7,
   "metadata": {},
   "outputs": [
    {
     "data": {
      "text/plain": [
       "True"
      ]
     },
     "execution_count": 7,
     "metadata": {},
     "output_type": "execute_result"
    }
   ],
   "source": [
    "import dotenv\n",
    "\n",
    "# Load the environment variables\n",
    "# (loads CENSUS_API_KEY from .env)\n",
    "dotenv.load_dotenv()\n"
   ]
  },
  {
   "cell_type": "code",
   "execution_count": 8,
   "metadata": {},
   "outputs": [
    {
     "data": {
      "text/plain": [
       "Loading required package: tidycensus\n",
       "To install your API key for use in future sessions, run this function with `install = TRUE`.\n"
      ]
     },
     "metadata": {},
     "output_type": "display_data"
    }
   ],
   "source": [
    "%%R \n",
    "\n",
    "require('tidycensus')\n",
    "\n",
    "# because it an environment variable, we don't have to \n",
    "# explicitly pass this string to R, it is readable here\n",
    "# in this R cell.\n",
    "census_api_key(Sys.getenv(\"CENSUS_API_KEY\"))"
   ]
  },
  {
   "cell_type": "markdown",
   "metadata": {},
   "source": [
    "2. Decide which Census variables you want\n",
    "\n",
    "    Use <https://censusreporter.org/> to figure out which tables you want. (if censusreporter is down, check out the code in the cell below)\n",
    "\n",
    "    -   Scroll to the bottom of the page to see the tables.\n",
    "    -   If you already know the table ID, stick that in the \"Explore\" section to learn more about that table.\n",
    "\n",
    "    By default this code loads (B01003_001) which we found in censusreporter here: https://censusreporter.org/tables/B01003/\n",
    "\n",
    "    - find some other variables that you're also interested in\n",
    "    - don't forget to pick a geography like \"tract\", \"county\" or \"block group\". here is the list of [all geographies](https://walker-data.com/tidycensus/articles/basic-usage.html#geography-in-tidycensus\n",
    "    ).\n"
   ]
  },
  {
   "cell_type": "code",
   "execution_count": 9,
   "metadata": {},
   "outputs": [
    {
     "name": "stdout",
     "output_type": "stream",
     "text": [
      "# A tibble: 2,803 × 3\n",
      "   name         label                                                    concept\n",
      "   <chr>        <chr>                                                    <chr>  \n",
      " 1 B06010PR_002 Estimate!!Total:!!No income                              PLACE …\n",
      " 2 B06010PR_003 Estimate!!Total:!!With income:                           PLACE …\n",
      " 3 B06010PR_004 Estimate!!Total:!!With income:!!$1 to $9,999 or loss     PLACE …\n",
      " 4 B06010PR_005 Estimate!!Total:!!With income:!!$10,000 to $14,999       PLACE …\n",
      " 5 B06010PR_006 Estimate!!Total:!!With income:!!$15,000 to $24,999       PLACE …\n",
      " 6 B06010PR_007 Estimate!!Total:!!With income:!!$25,000 to $34,999       PLACE …\n",
      " 7 B06010PR_008 Estimate!!Total:!!With income:!!$35,000 to $49,999       PLACE …\n",
      " 8 B06010PR_009 Estimate!!Total:!!With income:!!$50,000 to $64,999       PLACE …\n",
      " 9 B06010PR_010 Estimate!!Total:!!With income:!!$65,000 to $74,999       PLACE …\n",
      "10 B06010PR_011 Estimate!!Total:!!With income:!!$75,000 or more          PLACE …\n",
      "11 B06010PR_013 Estimate!!Total:!!Born in Puerto Rico:!!No income        PLACE …\n",
      "12 B06010PR_014 Estimate!!Total:!!Born in Puerto Rico:!!With income:     PLACE …\n",
      "13 B06010PR_015 Estimate!!Total:!!Born in Puerto Rico:!!With income:!!$… PLACE …\n",
      "14 B06010PR_016 Estimate!!Total:!!Born in Puerto Rico:!!With income:!!$… PLACE …\n",
      "15 B06010PR_017 Estimate!!Total:!!Born in Puerto Rico:!!With income:!!$… PLACE …\n",
      "16 B06010PR_018 Estimate!!Total:!!Born in Puerto Rico:!!With income:!!$… PLACE …\n",
      "17 B06010PR_019 Estimate!!Total:!!Born in Puerto Rico:!!With income:!!$… PLACE …\n",
      "18 B06010PR_020 Estimate!!Total:!!Born in Puerto Rico:!!With income:!!$… PLACE …\n",
      "19 B06010PR_021 Estimate!!Total:!!Born in Puerto Rico:!!With income:!!$… PLACE …\n",
      "20 B06010PR_022 Estimate!!Total:!!Born in Puerto Rico:!!With income:!!$… PLACE …\n",
      "# ℹ 2,783 more rows\n",
      "# ℹ Use `print(n = ...)` to see more rows\n"
     ]
    }
   ],
   "source": [
    "%%R \n",
    "\n",
    "# Finding the Census Varaibles for the ACS 5 year survey\n",
    "# Generall you'd do this in CensusReporter, but since it's down sometimes, here it is using tidycensus's load_variables function\n",
    "\n",
    "# get every single variable in the ACS5\n",
    "all_census_vars <- load_variables(2021, \"acs5\", cache = TRUE) \n",
    "\n",
    "filtered_census_vars <- all_census_vars %>% \n",
    "    filter(grepl(\"income\", label, ignore.case = TRUE))   # filter to those containing \"median income\"\n",
    "    \n",
    "# write to CSV so we can view it in python\n",
    "filtered_census_vars %>% \n",
    "    write_csv(\"../data/filtered_census_vars.csv\")\n",
    "\n",
    "# show the first few rows\n",
    "filtered_census_vars %>%\n",
    "    select(-geography) %>% # remove the geography column\n",
    "    print(n = 20) # print the first 20 rows"
   ]
  },
  {
   "cell_type": "code",
   "execution_count": 13,
   "metadata": {},
   "outputs": [
    {
     "name": "stdout",
     "output_type": "stream",
     "text": [
      "  |======================================================================| 100%\n",
      "Simple feature collection with 439062 features and 5 fields\n",
      "Geometry type: MULTIPOLYGON\n",
      "Dimension:     XY\n",
      "Bounding box:  xmin: -176.6967 ymin: 17.92667 xmax: -65.22108 ymax: 71.34122\n",
      "Geodetic CRS:  NAD83\n",
      "First 10 features:\n",
      "   GEOID        NAME               variable   estimate        moe\n",
      " 15301 ZCTA5 15301             population 49802.0000   788.0000\n",
      " 15301 ZCTA5 15301             med_hh_inc 62902.0000  3704.0000\n",
      " 15301 ZCTA5 15301            med_fam_inc 83360.0000  5018.0000\n",
      " 15301 ZCTA5 15301 med_fam_inc_w_children 86179.0000 14806.0000\n",
      " 15301 ZCTA5 15301        gini_inequality     0.4349     0.0184\n",
      " 15301 ZCTA5 15301            poverty_pop  4838.0000   602.0000\n",
      " 15301 ZCTA5 15301              white_pop 44482.0000   978.0000\n",
      " 15301 ZCTA5 15301       total_racial_pop 49802.0000   788.0000\n",
      " 15301 ZCTA5 15301          total_edu_pop 36138.0000   829.0000\n",
      " 15301 ZCTA5 15301               bach_pop  6081.0000   566.0000\n",
      "                         geometry\n",
      " MULTIPOLYGON (((-80.3686 40...\n",
      " MULTIPOLYGON (((-80.3686 40...\n",
      " MULTIPOLYGON (((-80.3686 40...\n",
      " MULTIPOLYGON (((-80.3686 40...\n",
      " MULTIPOLYGON (((-80.3686 40...\n",
      " MULTIPOLYGON (((-80.3686 40...\n",
      " MULTIPOLYGON (((-80.3686 40...\n",
      " MULTIPOLYGON (((-80.3686 40...\n",
      " MULTIPOLYGON (((-80.3686 40...\n",
      " MULTIPOLYGON (((-80.3686 40...\n"
     ]
    },
    {
     "data": {
      "text/plain": [
       "Getting data from the 2017-2021 5-year ACS\n",
       "Downloading feature geometry from the Census website.  To cache shapefiles for use in future sessions, set `options(tigris_use_cache = TRUE)`.\n"
      ]
     },
     "metadata": {},
     "output_type": "display_data"
    }
   ],
   "source": [
    "%%R \n",
    "# the variable B01003_001E was selectd from the census table \n",
    "# for population, which we found in censusreporter here:\n",
    "# https://censusreporter.org/tables/B01003/\n",
    "\n",
    "# in the table below, pick the geography, the variables, and the survey you want to pull from\n",
    "# see the possible values here https://walker-data.com/tidycensus/articles/basic-usage.html\n",
    "\n",
    "# Get variable from ACS\n",
    "census_data <- get_acs(geography = \"zcta\", \n",
    "                      variables = c(\n",
    "                        population=\"B01003_001\",\n",
    "                        med_hh_inc=\"B19013_001\",\n",
    "                        med_fam_inc=\"B19113_001\",\n",
    "                        med_fam_inc_w_children=\"B19125_002\",\n",
    "                        gini_inequality=\"B19083_001\",\n",
    "                        poverty_pop=\"B17001_002\",\n",
    "                        white_pop =\"B02001_002\",\n",
    "                        total_racial_pop=\"B02001_001\",\n",
    "                        total_edu_pop=\"B15003_001\",\n",
    "                        bach_pop=\"B15003_022\",\n",
    "                        masters_pop=\"B15003_023\",\n",
    "                        phd_pop=\"B15003_025\",\n",
    "                        prof_school_pop=\"B15003_024\"\n",
    "                      ), \n",
    "                      year = 2021,\n",
    "                      survey=\"acs5\",\n",
    "                      geometry=T)\n",
    "\n",
    "census_data"
   ]
  },
  {
   "cell_type": "code",
   "execution_count": 15,
   "metadata": {},
   "outputs": [],
   "source": [
    "%%R \n",
    "\n",
    "pivoted_census <- census_data %>%\n",
    "    select(-moe) %>%\n",
    "    pivot_wider(names_from = \"variable\", values_from=\"estimate\") %>%\n",
    "    mutate(poverty_prop = poverty_pop / population,\n",
    "           white_prop = white_pop / total_racial_pop,\n",
    "           bach_plus_prop = (bach_pop + masters_pop + phd_pop + prof_school_pop) / total_edu_pop)\n",
    "\n"
   ]
  },
  {
   "cell_type": "code",
   "execution_count": 16,
   "metadata": {},
   "outputs": [],
   "source": [
    "%%R\n",
    "library(stringr)\n",
    "\n",
    "cleaned_census <- pivoted_census %>% mutate(zip_code = as.double(str_sub(NAME, -5,-1)))"
   ]
  },
  {
   "cell_type": "markdown",
   "metadata": {},
   "source": [
    "## 👉 Merge it with your data\n",
    "\n",
    "hint...`tidycensus` provides you data in long format you may need to pivot the census data from long to wide format before merging it with your data"
   ]
  },
  {
   "cell_type": "code",
   "execution_count": 17,
   "metadata": {},
   "outputs": [],
   "source": [
    "%%R\n",
    "\n",
    "\n",
    "school_census_data <- df %>% left_join(cleaned_census, by=join_by(LEA_ZIP == zip_code))"
   ]
  },
  {
   "cell_type": "code",
   "execution_count": 18,
   "metadata": {},
   "outputs": [],
   "source": [
    "%%R \n",
    "\n",
    "write_csv(school_census_data, \"../data/final_data.csv\")"
   ]
  },
  {
   "cell_type": "code",
   "execution_count": null,
   "metadata": {},
   "outputs": [],
   "source": []
  },
  {
   "cell_type": "code",
   "execution_count": null,
   "metadata": {},
   "outputs": [],
   "source": []
  },
  {
   "cell_type": "code",
   "execution_count": null,
   "metadata": {},
   "outputs": [],
   "source": []
  }
 ],
 "metadata": {
  "kernelspec": {
   "display_name": "Python 3 (ipykernel)",
   "language": "python",
   "name": "python3"
  },
  "language_info": {
   "codemirror_mode": {
    "name": "ipython",
    "version": 3
   },
   "file_extension": ".py",
   "mimetype": "text/x-python",
   "name": "python",
   "nbconvert_exporter": "python",
   "pygments_lexer": "ipython3",
   "version": "3.12.7"
  }
 },
 "nbformat": 4,
 "nbformat_minor": 4
}
