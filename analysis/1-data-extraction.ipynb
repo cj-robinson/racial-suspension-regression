{
 "cells": [
  {
   "cell_type": "markdown",
   "metadata": {},
   "source": [
    "# Data aggregation and extraction\n",
    "All the CRDC datasets for schools comes in seperate files. This notebook collates all variables into one CSV that is later cleaned."
   ]
  },
  {
   "cell_type": "markdown",
   "metadata": {},
   "source": [
    "## Setup Python and R environment\n",
    "you can ignore this section"
   ]
  },
  {
   "cell_type": "code",
   "execution_count": 5,
   "metadata": {},
   "outputs": [
    {
     "name": "stdout",
     "output_type": "stream",
     "text": [
      "The rpy2.ipython extension is already loaded. To reload it, use:\n",
      "  %reload_ext rpy2.ipython\n",
      "The autoreload extension is already loaded. To reload it, use:\n",
      "  %reload_ext autoreload\n"
     ]
    }
   ],
   "source": [
    "%load_ext rpy2.ipython\n",
    "%load_ext autoreload\n",
    "%autoreload 2\n",
    "\n",
    "%matplotlib inline  \n",
    "from matplotlib import rcParams\n",
    "rcParams['figure.figsize'] = (16, 100)\n",
    "\n",
    "import warnings\n",
    "from rpy2.rinterface import RRuntimeWarning\n",
    "warnings.filterwarnings(\"ignore\") # Ignore all warnings\n",
    "# warnings.filterwarnings(\"ignore\", category=RRuntimeWarning) # Show some warnings\n",
    "\n",
    "import pandas as pd\n",
    "import numpy as np\n",
    "import matplotlib.pyplot as plt\n",
    "from IPython.display import display, HTML\n",
    "import glob"
   ]
  },
  {
   "cell_type": "code",
   "execution_count": 2,
   "metadata": {},
   "outputs": [
    {
     "data": {
      "application/javascript": [
       "// Disable auto-scrolling\n",
       "IPython.OutputArea.prototype._should_scroll = function(lines) {\n",
       "    return false;\n",
       "}\n"
      ],
      "text/plain": [
       "<IPython.core.display.Javascript object>"
      ]
     },
     "metadata": {},
     "output_type": "display_data"
    }
   ],
   "source": [
    "%%javascript\n",
    "// Disable auto-scrolling\n",
    "IPython.OutputArea.prototype._should_scroll = function(lines) {\n",
    "    return false;\n",
    "}"
   ]
  },
  {
   "cell_type": "code",
   "execution_count": 3,
   "metadata": {},
   "outputs": [
    {
     "name": "stdout",
     "output_type": "stream",
     "text": [
      "── Attaching packages ─────────────────────────────────────── tidyverse 1.3.2 ──\n",
      "✔ ggplot2 3.5.1     ✔ purrr   1.0.1\n",
      "✔ tibble  3.2.1     ✔ dplyr   1.1.4\n",
      "✔ tidyr   1.3.0     ✔ stringr 1.5.0\n",
      "✔ readr   2.1.4     ✔ forcats 1.0.0\n",
      "── Conflicts ────────────────────────────────────────── tidyverse_conflicts() ──\n",
      "✖ dplyr::filter() masks stats::filter()\n",
      "✖ dplyr::lag()    masks stats::lag()\n"
     ]
    },
    {
     "data": {
      "text/plain": [
       "Loading required package: tidyverse\n",
       "In addition: Warning messages:\n",
       "1: package ‘ggplot2’ was built under R version 4.2.3 \n",
       "2: package ‘dplyr’ was built under R version 4.2.3 \n"
      ]
     },
     "metadata": {},
     "output_type": "display_data"
    }
   ],
   "source": [
    "%%R\n",
    "\n",
    "# My commonly used R imports\n",
    "\n",
    "require('tidyverse')"
   ]
  },
  {
   "cell_type": "markdown",
   "metadata": {},
   "source": [
    "## 👉 download your data\n",
    "\n",
    "You can write code here to download your dataset. Or if you already have it, just leave the URL in the comments and just load it into a pandas or R (or both) dataframe."
   ]
  },
  {
   "cell_type": "code",
   "execution_count": 1,
   "metadata": {},
   "outputs": [],
   "source": [
    "# https://civilrightsdata.ed.gov/data\n"
   ]
  },
  {
   "cell_type": "code",
   "execution_count": 11,
   "metadata": {},
   "outputs": [
    {
     "name": "stdout",
     "output_type": "stream",
     "text": [
      "Loaded ../2021-22-crdc-data/SCH/Referrals and Arrests.csv, shape: (98010, 84)\n",
      "Loaded ../2021-22-crdc-data/SCH/School Support.csv, shape: (98010, 19)\n",
      "Loaded ../2021-22-crdc-data/SCH/Algebra II.csv, shape: (98010, 29)\n",
      "Loaded ../2021-22-crdc-data/SCH/Internet Access and Devices.csv, shape: (98010, 13)\n",
      "Loaded ../2021-22-crdc-data/SCH/Geometry.csv, shape: (98010, 31)\n",
      "Loaded ../2021-22-crdc-data/SCH/Corporal Punishment.csv, shape: (98010, 72)\n",
      "Loaded ../2021-22-crdc-data/SCH/Interscholastic Athletics.csv, shape: (98010, 18)\n",
      "Loaded ../2021-22-crdc-data/SCH/Biology.csv, shape: (98010, 29)\n",
      "Loaded ../2021-22-crdc-data/SCH/Advanced Mathematics.csv, shape: (98010, 29)\n",
      "Loaded ../2021-22-crdc-data/SCH/Justice Facilities.csv, shape: (98010, 16)\n",
      "Loaded ../2021-22-crdc-data/SCH/COVID Directional Indicators.csv, shape: (98010, 12)\n",
      "Loaded ../2021-22-crdc-data/SCH/Dual Enrollment.csv, shape: (98010, 29)\n",
      "Loaded ../2021-22-crdc-data/SCH/Algebra I.csv, shape: (98010, 132)\n",
      "Loaded ../2021-22-crdc-data/SCH/SAT and ACT.csv, shape: (98010, 28)\n",
      "Loaded ../2021-22-crdc-data/SCH/Gifted and Talented.csv, shape: (98010, 29)\n",
      "Loaded ../2021-22-crdc-data/SCH/International Baccalaureate.csv, shape: (98010, 31)\n",
      "Loaded ../2021-22-crdc-data/SCH/Chemistry.csv, shape: (98010, 29)\n",
      "Loaded ../2021-22-crdc-data/SCH/Single Sex Classes.csv, shape: (98010, 21)\n",
      "Loaded ../2021-22-crdc-data/SCH/Calculus.csv, shape: (98010, 29)\n",
      "Loaded ../2021-22-crdc-data/SCH/Transfers.csv, shape: (98010, 46)\n",
      "Loaded ../2021-22-crdc-data/SCH/Retention.csv, shape: (98010, 307)\n",
      "Loaded ../2021-22-crdc-data/SCH/Computer Science.csv, shape: (98010, 29)\n",
      "Loaded ../2021-22-crdc-data/SCH/Suspensions.csv, shape: (98010, 189)\n",
      "Loaded ../2021-22-crdc-data/SCH/Physics.csv, shape: (98010, 29)\n",
      "Loaded ../2021-22-crdc-data/SCH/Advanced Placement.csv, shape: (98010, 98)\n",
      "Loaded ../2021-22-crdc-data/SCH/School Characteristics.csv, shape: (98010, 34)\n",
      "Loaded ../2021-22-crdc-data/SCH/Offenses.csv, shape: (98010, 33)\n",
      "Loaded ../2021-22-crdc-data/SCH/Expulsions.csv, shape: (98010, 142)\n",
      "Loaded ../2021-22-crdc-data/SCH/Restraint and Seclusion.csv, shape: (98010, 131)\n",
      "Loaded ../2021-22-crdc-data/SCH/Harassment and Bullying.csv, shape: (98010, 159)\n",
      "Loaded ../2021-22-crdc-data/SCH/Enrollment.csv, shape: (98010, 233)\n",
      "Shared columns across all files: {'LEA_STATE_NAME', 'SCHID', 'LEA_NAME', 'JJ', 'LEA_STATE', 'COMBOKEY', 'SCH_NAME', 'LEAID'}\n",
      "Total unique columns across all files: 1870\n",
      "Merged file 2/31, current shape: (98010, 95)\n",
      "Merged file 3/31, current shape: (98010, 116)\n",
      "Merged file 4/31, current shape: (98010, 121)\n",
      "Merged file 5/31, current shape: (98010, 144)\n",
      "Merged file 6/31, current shape: (98010, 208)\n",
      "Merged file 7/31, current shape: (98010, 218)\n",
      "Merged file 8/31, current shape: (98010, 239)\n",
      "Merged file 9/31, current shape: (98010, 260)\n",
      "Merged file 10/31, current shape: (98010, 268)\n",
      "Merged file 11/31, current shape: (98010, 272)\n",
      "Merged file 12/31, current shape: (98010, 293)\n",
      "Merged file 13/31, current shape: (98010, 417)\n",
      "Merged file 14/31, current shape: (98010, 437)\n",
      "Merged file 15/31, current shape: (98010, 458)\n",
      "Merged file 16/31, current shape: (98010, 481)\n",
      "Merged file 17/31, current shape: (98010, 502)\n",
      "Merged file 18/31, current shape: (98010, 515)\n",
      "Merged file 19/31, current shape: (98010, 536)\n",
      "Merged file 20/31, current shape: (98010, 574)\n",
      "Merged file 21/31, current shape: (98010, 873)\n",
      "Merged file 22/31, current shape: (98010, 894)\n",
      "Merged file 23/31, current shape: (98010, 1075)\n",
      "Merged file 24/31, current shape: (98010, 1096)\n",
      "Merged file 25/31, current shape: (98010, 1186)\n",
      "Merged file 26/31, current shape: (98010, 1212)\n",
      "Merged file 27/31, current shape: (98010, 1237)\n",
      "Merged file 28/31, current shape: (98010, 1371)\n",
      "Merged file 29/31, current shape: (98010, 1494)\n",
      "Merged file 30/31, current shape: (98010, 1645)\n",
      "Merged file 31/31, current shape: (98010, 1870)\n",
      "Saved merged dataset to 'merged_data.csv'\n"
     ]
    }
   ],
   "source": [
    "# Get all CSV files in the current directory\n",
    "csv_files = glob.glob(\"../data/2021-22-crdc-data/SCH/*.csv\")\n",
    "\n",
    "# Initialize empty list to store all dataframes\n",
    "all_dfs = []\n",
    "\n",
    "# First, let's read all CSV files and identify shared columns\n",
    "all_columns = set()\n",
    "shared_columns = set()\n",
    "first_file = True\n",
    "\n",
    "# Read each CSV and track columns\n",
    "for file in csv_files:\n",
    "    df = pd.read_csv(file)\n",
    "    print(f\"Loaded {file}, shape: {df.shape}\")\n",
    "    \n",
    "    # Store the dataframe\n",
    "    all_dfs.append(df)\n",
    "    \n",
    "    # Initialize shared columns with the first file\n",
    "    if first_file:\n",
    "        shared_columns = set(df.columns)\n",
    "        first_file = False\n",
    "    else:\n",
    "        # Update shared columns (intersection)\n",
    "        shared_columns = shared_columns.intersection(set(df.columns))\n",
    "    \n",
    "    # Update all columns (union)\n",
    "    all_columns = all_columns.union(set(df.columns))\n",
    "\n",
    "# Make sure COMBOKEY is in all dataframes\n",
    "if \"COMBOKEY\" not in shared_columns:\n",
    "    print(\"Error: COMBOKEY must be present in all CSV files\")\n",
    "    exit(1)\n",
    "\n",
    "print(f\"Shared columns across all files: {shared_columns}\")\n",
    "print(f\"Total unique columns across all files: {len(all_columns)}\")\n",
    "\n",
    "# Start with the first dataframe\n",
    "result_df = all_dfs[0]\n",
    "\n",
    "# Merge with all other dataframes\n",
    "for i, df in enumerate(all_dfs[1:], 2):\n",
    "    # For shared columns (except COMBOKEY), we'll only keep from the first dataframe\n",
    "    # by dropping them from the current dataframe before merging\n",
    "    columns_to_drop = [col for col in shared_columns if col != \"COMBOKEY\"]\n",
    "    df_cleaned = df.drop(columns=columns_to_drop, errors='ignore')\n",
    "    \n",
    "    # Merge on COMBOKEY\n",
    "    result_df = pd.merge(result_df, df_cleaned, on=\"COMBOKEY\", how=\"left\")\n",
    "    print(f\"Merged file {i}/{len(csv_files)}, current shape: {result_df.shape}\")"
   ]
  },
  {
   "cell_type": "code",
   "execution_count": 20,
   "metadata": {},
   "outputs": [],
   "source": [
    "zip_codes = pd.read_csv(\"../data/2021-22-crdc-data/LEA/LEA Characteristics.csv\")\n",
    "merged_df = pd.merge(result_df, zip_codes, on=\"LEAID\", how=\"left\")"
   ]
  },
  {
   "cell_type": "code",
   "execution_count": 22,
   "metadata": {},
   "outputs": [
    {
     "data": {
      "text/plain": [
       "(98010, 1900)"
      ]
     },
     "execution_count": 22,
     "metadata": {},
     "output_type": "execute_result"
    }
   ],
   "source": [
    "merged_df.shape"
   ]
  },
  {
   "cell_type": "code",
   "execution_count": 2,
   "metadata": {},
   "outputs": [
    {
     "ename": "NameError",
     "evalue": "name 'merged_df' is not defined",
     "output_type": "error",
     "traceback": [
      "\u001b[0;31m---------------------------------------------------------------------------\u001b[0m",
      "\u001b[0;31mNameError\u001b[0m                                 Traceback (most recent call last)",
      "Cell \u001b[0;32mIn[2], line 1\u001b[0m\n\u001b[0;32m----> 1\u001b[0m \u001b[43mmerged_df\u001b[49m\u001b[38;5;241m.\u001b[39mhead()\n",
      "\u001b[0;31mNameError\u001b[0m: name 'merged_df' is not defined"
     ]
    }
   ],
   "source": [
    "zip_codes.head()"
   ]
  },
  {
   "cell_type": "code",
   "execution_count": 23,
   "metadata": {},
   "outputs": [],
   "source": [
    "merged_df.to_csv(\"../2021-22-crdc-data/merged_data.csv\", index=False)"
   ]
  }
 ],
 "metadata": {
  "kernelspec": {
   "display_name": "Python 3 (ipykernel)",
   "language": "python",
   "name": "python3"
  },
  "language_info": {
   "codemirror_mode": {
    "name": "ipython",
    "version": 3
   },
   "file_extension": ".py",
   "mimetype": "text/x-python",
   "name": "python",
   "nbconvert_exporter": "python",
   "pygments_lexer": "ipython3",
   "version": "3.12.7"
  }
 },
 "nbformat": 4,
 "nbformat_minor": 4
}
