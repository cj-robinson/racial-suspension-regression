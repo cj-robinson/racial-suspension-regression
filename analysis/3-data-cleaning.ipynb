{
 "cells": [
  {
   "attachments": {},
   "cell_type": "markdown",
   "id": "0df7ccfd-22ab-48d0-8d9b-e325adb00db8",
   "metadata": {},
   "source": [
    "### Standard Python and R imports"
   ]
  },
  {
   "cell_type": "code",
   "execution_count": 4,
   "id": "1952d3fd-b580-43cc-b139-398d37ec8edd",
   "metadata": {},
   "outputs": [
    {
     "name": "stdout",
     "output_type": "stream",
     "text": [
      "The rpy2.ipython extension is already loaded. To reload it, use:\n",
      "  %reload_ext rpy2.ipython\n",
      "The autoreload extension is already loaded. To reload it, use:\n",
      "  %reload_ext autoreload\n"
     ]
    }
   ],
   "source": [
    "%load_ext rpy2.ipython\n",
    "%load_ext autoreload\n",
    "%autoreload 2\n",
    "\n",
    "%matplotlib inline  \n",
    "from matplotlib import rcParams\n",
    "rcParams['figure.figsize'] = (16, 100)\n",
    "\n",
    "import warnings\n",
    "from rpy2.rinterface import RRuntimeWarning\n",
    "warnings.filterwarnings(\"ignore\") # Ignore all warnings\n",
    "# warnings.filterwarnings(\"ignore\", category=RRuntimeWarning) # Show some warnings\n",
    "\n",
    "import pandas as pd\n",
    "import numpy as np\n",
    "import matplotlib.pyplot as plt\n",
    "from IPython.display import display, HTML"
   ]
  },
  {
   "cell_type": "code",
   "execution_count": 5,
   "id": "082eb0ce-240b-474d-a82f-ec05840741a1",
   "metadata": {},
   "outputs": [],
   "source": [
    "%%R\n",
    "\n",
    "# My commonly used R imports\n",
    "\n",
    "require('tidyverse')\n",
    "require('broom')\n",
    "require('GGally')"
   ]
  },
  {
   "cell_type": "markdown",
   "id": "17b5c9da-b47e-4818-aaed-c630eb0b4bbc",
   "metadata": {},
   "source": [
    "## Read in data"
   ]
  },
  {
   "cell_type": "code",
   "execution_count": 45,
   "id": "668957e8-a441-4bce-b15f-8d2ebf4fb7f0",
   "metadata": {},
   "outputs": [],
   "source": [
    "%%R\n",
    "library(data.table)\n",
    "\n",
    "# Import data with R\n",
    "df <- fread('../data/final_data.csv')\n",
    "lunch_program <- fread('../data/ccd_sch_033_2122_l_1a_071722/ccd_sch_033_2122_l_1a_071722.csv') "
   ]
  },
  {
   "cell_type": "code",
   "execution_count": 46,
   "id": "361e6d2f-63a9-44f4-9149-a60ff6fb1b31",
   "metadata": {},
   "outputs": [],
   "source": [
    "%%R\n",
    "\n",
    "lunch_program <- lunch_program %>% \n",
    "  mutate(LEAID = as.character(LEAID)) %>% \n",
    "  filter(LUNCH_PROGRAM %in% c('Reduced-price lunch qualified', 'Free lunch qualified')) %>% \n",
    "  group_by(SCHID, LEAID) %>% \n",
    "  summarize(red_free_lunch = sum(STUDENT_COUNT, na.rm = TRUE), .groups = \"drop\")"
   ]
  },
  {
   "cell_type": "code",
   "execution_count": 47,
   "id": "31fa97f4-f09c-4f58-99ff-c8efd4098726",
   "metadata": {},
   "outputs": [],
   "source": [
    "%%R\n",
    "\n",
    "\n",
    "values_to_replace <- c(-3, -4, -5, -6, -9,-12,-13)\n",
    "\n",
    "df_clean <- df %>% \n",
    "        mutate(across(everything(), ~ replace(.x, .x %in% values_to_replace, NA))) \n",
    "\n",
    "df_clean <- df_clean %>% left_join(lunch_program, by = join_by(SCHID, LEAID))"
   ]
  },
  {
   "cell_type": "code",
   "execution_count": 56,
   "id": "2fd73888-77e5-427b-bbb5-77914a6dac7a",
   "metadata": {},
   "outputs": [
    {
     "name": "stdout",
     "output_type": "stream",
     "text": [
      "# A tibble: 20 × 3\n",
      "    SCHID LEAID  red_free_lunch\n",
      "    <int> <chr>           <int>\n",
      " 1 100001 100030            198\n",
      " 2 100003 100030            302\n",
      " 3 100004 100030            376\n",
      " 4 100005 100030              0\n",
      " 5 100006 100030            236\n",
      " 6 100007 100060            209\n",
      " 7 100008 100060            123\n",
      " 8 100011 100090            387\n",
      " 9 100013 100270            265\n",
      "10 100017 100090            302\n",
      "11 100020 100090            317\n",
      "12 100021 100090              0\n",
      "13 100022 100100              0\n",
      "14 100024 100270            584\n",
      "15 100025 100100            138\n",
      "16 100027 100100            118\n",
      "17 100028 100100            100\n",
      "18 100030 102220            215\n",
      "19 100031 103030            151\n",
      "20 100033 100180            282\n"
     ]
    }
   ],
   "source": [
    "%%R\n",
    "\n",
    "# df_clean %>% filter(SCHID == 10001)\n",
    "\n",
    "lunch_program %>% head(20)"
   ]
  },
  {
   "cell_type": "code",
   "execution_count": 64,
   "id": "09be587d-341e-4407-b240-61dc556589c4",
   "metadata": {},
   "outputs": [],
   "source": [
    "%%R -o df_filtered\n",
    "\n",
    "# filter data for schools applicable to analysis of Black/white student suspension ratio\n",
    "# mostly ensuring that there are enough Black and white students to adequately compate\n",
    "\n",
    "df_filtered <- df_clean %>% \n",
    "# filter for schools fit for analysis\n",
    "filter(SCH_ENR_BL_M > 0, # more than 0 black students\n",
    "          SCH_ENR_WH_M > 0, # more than 0 white students\n",
    "           SCH_DISCWODIS_ISS_BL_M + SCH_DISCWODIS_ISS_BL_F > 5, # more than 5 black in-school suspension\n",
    "           SCH_DISCWODIS_ISS_WH_M + SCH_DISCWODIS_ISS_WH_F> 5 # more than 5 white male in-school suspension\n",
    "          # SCH_DISCWODIS_ISS_BL_M / SCH_ENR_BL_M > 0,\n",
    "          #  SCH_DISCWODIS_ISS_BL_M / SCH_ENR_BL_M <= 1,\n",
    "          # SCH_DISCWODIS_ISS_WH_M / SCH_ENR_WH_M > 0,\n",
    "          #   SCH_DISCWODIS_ISS_WH_M / SCH_ENR_WH_M <= 1\n",
    ") %>%\n",
    "# create variables for analysis\n",
    "mutate(susp_black_white_ratio = \n",
    "             ((SCH_DISCWODIS_ISS_BL_M + SCH_DISCWODIS_ISS_BL_F) / (SCH_ENR_BL_M + SCH_ENR_BL_F)) / \n",
    "             ((SCH_DISCWODIS_ISS_WH_M + SCH_DISCWODIS_ISS_WH_F) / (SCH_ENR_WH_M + SCH_ENR_WH_F)),\n",
    "            black_white_pop_ratio = ((SCH_ENR_BL_M + SCH_ENR_BL_F) / ((SCH_ENR_BL_M + SCH_ENR_BL_F) + (SCH_ENR_WH_M + SCH_ENR_WH_F))),\n",
    "           school_pop = rowSums(select(., SCH_ENR_HI_M, SCH_ENR_HI_F, SCH_ENR_HI_X,\n",
    "                                           SCH_ENR_AM_M, SCH_ENR_AM_F, SCH_ENR_AM_X,\n",
    "                                           SCH_ENR_AS_M, SCH_ENR_AS_F, SCH_ENR_AS_X,\n",
    "                                           SCH_ENR_HP_M, SCH_ENR_HP_F, SCH_ENR_HP_X,\n",
    "                                           SCH_ENR_BL_M, SCH_ENR_BL_F, SCH_ENR_BL_X,\n",
    "                                           SCH_ENR_WH_M, SCH_ENR_WH_F, SCH_ENR_WH_X,\n",
    "                                           SCH_ENR_TR_M, SCH_ENR_TR_F, SCH_ENR_TR_X),\n",
    "                                 na.rm = TRUE),\n",
    "teacher_prop = (SCH_FTETEACH_TOT / school_pop) ,\n",
    "              cert_teacher_prop = SCH_FTETEACH_CERT / SCH_FTETEACH_TOT,  # certified teachers / teachers\n",
    "              counc_prop = SCH_FTECOUNSELORS / school_pop,  # councelors / school pop\n",
    "            law_prop = SCH_FTESECURITY_LEO / school_pop, # LEA / school pop\n",
    "            security_pop = SCH_FTESECURITY_GUA / school_pop,  # security / school pop\n",
    "\n",
    "              security_pop_bool = factor(ifelse(SCH_FTESECURITY_LEO > 0, 1,0)) # security bool\n",
    "      ) %>%\n",
    "mutate(total_susp_per_pop = ((SCH_DISCWODIS_ISS_BL_M + SCH_DISCWODIS_ISS_BL_F) + (SCH_DISCWODIS_ISS_WH_M + SCH_DISCWODIS_ISS_WH_F)) /  ((SCH_ENR_BL_M + SCH_ENR_BL_F) +(SCH_ENR_WH_M + SCH_ENR_WH_F))) \n"
   ]
  },
  {
   "cell_type": "code",
   "execution_count": 60,
   "id": "ad978e96-a4a1-4e92-a74c-3c77c2bbc058",
   "metadata": {},
   "outputs": [
    {
     "name": "stdout",
     "output_type": "stream",
     "text": [
      "Error in `select()`:\n",
      "! Can't select columns that don't exist.\n",
      "✖ Column `STUDENT_COUNT` doesn't exist.\n",
      "Run `rlang::last_trace()` to see where the error occurred.\n",
      "\n",
      "Error in select(., STUDENT_COUNT) :\n"
     ]
    },
    {
     "ename": "RInterpreterError",
     "evalue": "Failed to parse and evaluate line 'df_filtered %>% select(STUDENT_COUNT)\\n'.\nR error message: 'Error in select(., STUDENT_COUNT) :'",
     "output_type": "error",
     "traceback": [
      "\u001b[0;31m---------------------------------------------------------------------------\u001b[0m",
      "\u001b[0;31mRRuntimeError\u001b[0m                             Traceback (most recent call last)",
      "File \u001b[0;32m~/.pyenv/versions/3.12.7/lib/python3.12/site-packages/rpy2/ipython/rmagic.py:407\u001b[0m, in \u001b[0;36mRMagics.eval\u001b[0;34m(self, code)\u001b[0m\n\u001b[1;32m    406\u001b[0m     r_expr \u001b[38;5;241m=\u001b[39m ri\u001b[38;5;241m.\u001b[39mparse(code)\n\u001b[0;32m--> 407\u001b[0m     value, visible \u001b[38;5;241m=\u001b[39m \u001b[43mri\u001b[49m\u001b[38;5;241;43m.\u001b[39;49m\u001b[43mevalr_expr_with_visible\u001b[49m\u001b[43m(\u001b[49m\n\u001b[1;32m    408\u001b[0m \u001b[43m        \u001b[49m\u001b[43mr_expr\u001b[49m\n\u001b[1;32m    409\u001b[0m \u001b[43m    \u001b[49m\u001b[43m)\u001b[49m\n\u001b[1;32m    410\u001b[0m \u001b[38;5;28;01mexcept\u001b[39;00m (ri\u001b[38;5;241m.\u001b[39membedded\u001b[38;5;241m.\u001b[39mRRuntimeError, \u001b[38;5;167;01mValueError\u001b[39;00m) \u001b[38;5;28;01mas\u001b[39;00m exception:\n\u001b[1;32m    411\u001b[0m     \u001b[38;5;66;03m# Otherwise next return seems to have copy of error.\u001b[39;00m\n",
      "File \u001b[0;32m~/.pyenv/versions/3.12.7/lib/python3.12/site-packages/rpy2/rinterface.py:194\u001b[0m, in \u001b[0;36mevalr_expr_with_visible\u001b[0;34m(expr, envir)\u001b[0m\n\u001b[1;32m    193\u001b[0m \u001b[38;5;28;01mif\u001b[39;00m error_occured[\u001b[38;5;241m0\u001b[39m]:\n\u001b[0;32m--> 194\u001b[0m     \u001b[38;5;28;01mraise\u001b[39;00m embedded\u001b[38;5;241m.\u001b[39mRRuntimeError(_rinterface\u001b[38;5;241m.\u001b[39m_geterrmessage())\n\u001b[1;32m    195\u001b[0m res \u001b[38;5;241m=\u001b[39m conversion\u001b[38;5;241m.\u001b[39m_cdata_to_rinterface(r_res)\n",
      "\u001b[0;31mRRuntimeError\u001b[0m: Error in select(., STUDENT_COUNT) : \n",
      "\nDuring handling of the above exception, another exception occurred:\n",
      "\u001b[0;31mRInterpreterError\u001b[0m                         Traceback (most recent call last)",
      "Cell \u001b[0;32mIn[60], line 1\u001b[0m\n\u001b[0;32m----> 1\u001b[0m \u001b[43mget_ipython\u001b[49m\u001b[43m(\u001b[49m\u001b[43m)\u001b[49m\u001b[38;5;241;43m.\u001b[39;49m\u001b[43mrun_cell_magic\u001b[49m\u001b[43m(\u001b[49m\u001b[38;5;124;43m'\u001b[39;49m\u001b[38;5;124;43mR\u001b[39;49m\u001b[38;5;124;43m'\u001b[39;49m\u001b[43m,\u001b[49m\u001b[43m \u001b[49m\u001b[38;5;124;43m'\u001b[39;49m\u001b[38;5;124;43m'\u001b[39;49m\u001b[43m,\u001b[49m\u001b[43m \u001b[49m\u001b[38;5;124;43m'\u001b[39;49m\u001b[38;5;124;43mdf_filtered \u001b[39;49m\u001b[38;5;124;43m%\u001b[39;49m\u001b[38;5;124;43m>\u001b[39;49m\u001b[38;5;132;43;01m% s\u001b[39;49;00m\u001b[38;5;124;43melect(STUDENT_COUNT)\u001b[39;49m\u001b[38;5;130;43;01m\\n\u001b[39;49;00m\u001b[38;5;124;43m'\u001b[39;49m\u001b[43m)\u001b[49m\n",
      "File \u001b[0;32m~/.pyenv/versions/3.12.7/lib/python3.12/site-packages/IPython/core/interactiveshell.py:2541\u001b[0m, in \u001b[0;36mInteractiveShell.run_cell_magic\u001b[0;34m(self, magic_name, line, cell)\u001b[0m\n\u001b[1;32m   2539\u001b[0m \u001b[38;5;28;01mwith\u001b[39;00m \u001b[38;5;28mself\u001b[39m\u001b[38;5;241m.\u001b[39mbuiltin_trap:\n\u001b[1;32m   2540\u001b[0m     args \u001b[38;5;241m=\u001b[39m (magic_arg_s, cell)\n\u001b[0;32m-> 2541\u001b[0m     result \u001b[38;5;241m=\u001b[39m \u001b[43mfn\u001b[49m\u001b[43m(\u001b[49m\u001b[38;5;241;43m*\u001b[39;49m\u001b[43margs\u001b[49m\u001b[43m,\u001b[49m\u001b[43m \u001b[49m\u001b[38;5;241;43m*\u001b[39;49m\u001b[38;5;241;43m*\u001b[39;49m\u001b[43mkwargs\u001b[49m\u001b[43m)\u001b[49m\n\u001b[1;32m   2543\u001b[0m \u001b[38;5;66;03m# The code below prevents the output from being displayed\u001b[39;00m\n\u001b[1;32m   2544\u001b[0m \u001b[38;5;66;03m# when using magics with decorator @output_can_be_silenced\u001b[39;00m\n\u001b[1;32m   2545\u001b[0m \u001b[38;5;66;03m# when the last Python token in the expression is a ';'.\u001b[39;00m\n\u001b[1;32m   2546\u001b[0m \u001b[38;5;28;01mif\u001b[39;00m \u001b[38;5;28mgetattr\u001b[39m(fn, magic\u001b[38;5;241m.\u001b[39mMAGIC_OUTPUT_CAN_BE_SILENCED, \u001b[38;5;28;01mFalse\u001b[39;00m):\n",
      "File \u001b[0;32m~/.pyenv/versions/3.12.7/lib/python3.12/site-packages/rpy2/ipython/rmagic.py:984\u001b[0m, in \u001b[0;36mRMagics.R\u001b[0;34m(self, line, cell, local_ns)\u001b[0m\n\u001b[1;32m    982\u001b[0m     \u001b[38;5;28;01mif\u001b[39;00m \u001b[38;5;129;01mnot\u001b[39;00m e\u001b[38;5;241m.\u001b[39mstdout\u001b[38;5;241m.\u001b[39mendswith(e\u001b[38;5;241m.\u001b[39merr):\n\u001b[1;32m    983\u001b[0m         \u001b[38;5;28mprint\u001b[39m(e\u001b[38;5;241m.\u001b[39merr)\n\u001b[0;32m--> 984\u001b[0m     \u001b[38;5;28;01mraise\u001b[39;00m e\n\u001b[1;32m    985\u001b[0m \u001b[38;5;28;01mfinally\u001b[39;00m:\n\u001b[1;32m    986\u001b[0m     \u001b[38;5;28;01mif\u001b[39;00m \u001b[38;5;28mself\u001b[39m\u001b[38;5;241m.\u001b[39mdevice \u001b[38;5;129;01min\u001b[39;00m DEVICES_STATIC:\n",
      "File \u001b[0;32m~/.pyenv/versions/3.12.7/lib/python3.12/site-packages/rpy2/ipython/rmagic.py:949\u001b[0m, in \u001b[0;36mRMagics.R\u001b[0;34m(self, line, cell, local_ns)\u001b[0m\n\u001b[1;32m    947\u001b[0m         return_output \u001b[38;5;241m=\u001b[39m \u001b[38;5;28;01mFalse\u001b[39;00m\n\u001b[1;32m    948\u001b[0m \u001b[38;5;28;01melse\u001b[39;00m:\n\u001b[0;32m--> 949\u001b[0m     text_result, result, visible \u001b[38;5;241m=\u001b[39m \u001b[38;5;28;43mself\u001b[39;49m\u001b[38;5;241;43m.\u001b[39;49m\u001b[43meval\u001b[49m\u001b[43m(\u001b[49m\u001b[43mcode\u001b[49m\u001b[43m)\u001b[49m\n\u001b[1;32m    950\u001b[0m     text_output \u001b[38;5;241m+\u001b[39m\u001b[38;5;241m=\u001b[39m text_result\n\u001b[1;32m    951\u001b[0m     \u001b[38;5;28;01mif\u001b[39;00m visible:\n",
      "File \u001b[0;32m~/.pyenv/versions/3.12.7/lib/python3.12/site-packages/rpy2/ipython/rmagic.py:413\u001b[0m, in \u001b[0;36mRMagics.eval\u001b[0;34m(self, code)\u001b[0m\n\u001b[1;32m    410\u001b[0m \u001b[38;5;28;01mexcept\u001b[39;00m (ri\u001b[38;5;241m.\u001b[39membedded\u001b[38;5;241m.\u001b[39mRRuntimeError, \u001b[38;5;167;01mValueError\u001b[39;00m) \u001b[38;5;28;01mas\u001b[39;00m exception:\n\u001b[1;32m    411\u001b[0m     \u001b[38;5;66;03m# Otherwise next return seems to have copy of error.\u001b[39;00m\n\u001b[1;32m    412\u001b[0m     warning_or_other_msg \u001b[38;5;241m=\u001b[39m \u001b[38;5;28mself\u001b[39m\u001b[38;5;241m.\u001b[39mflush()\n\u001b[0;32m--> 413\u001b[0m     \u001b[38;5;28;01mraise\u001b[39;00m RInterpreterError(code, \u001b[38;5;28mstr\u001b[39m(exception),\n\u001b[1;32m    414\u001b[0m                             warning_or_other_msg)\n\u001b[1;32m    415\u001b[0m \u001b[38;5;28;01mfinally\u001b[39;00m:\n\u001b[1;32m    416\u001b[0m     ro\u001b[38;5;241m.\u001b[39m_print_deferred_warnings()\n",
      "\u001b[0;31mRInterpreterError\u001b[0m: Failed to parse and evaluate line 'df_filtered %>% select(STUDENT_COUNT)\\n'.\nR error message: 'Error in select(., STUDENT_COUNT) :'"
     ]
    }
   ],
   "source": [
    "%%R \n",
    "df_filtered %>% select(STUDENT_COUNT)"
   ]
  },
  {
   "cell_type": "code",
   "execution_count": 65,
   "id": "77ab3f30-0d58-4b37-8d2e-44575dfd69a3",
   "metadata": {},
   "outputs": [],
   "source": [
    "%%R\n",
    "\n",
    "write_csv(df_filtered, \"../data/final_data_filtered.csv\")"
   ]
  },
  {
   "cell_type": "code",
   "execution_count": null,
   "id": "1bc29598-0aa9-4b3b-bcec-2c71c2883db3",
   "metadata": {},
   "outputs": [],
   "source": []
  }
 ],
 "metadata": {
  "kernelspec": {
   "display_name": "Python 3 (ipykernel)",
   "language": "python",
   "name": "python3"
  },
  "language_info": {
   "codemirror_mode": {
    "name": "ipython",
    "version": 3
   },
   "file_extension": ".py",
   "mimetype": "text/x-python",
   "name": "python",
   "nbconvert_exporter": "python",
   "pygments_lexer": "ipython3",
   "version": "3.12.7"
  }
 },
 "nbformat": 4,
 "nbformat_minor": 5
}
