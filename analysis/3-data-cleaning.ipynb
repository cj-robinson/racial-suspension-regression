{
 "cells": [
  {
   "cell_type": "markdown",
   "id": "c21b1487-2699-4d6c-9902-4b9ca35d4d33",
   "metadata": {},
   "source": [
    "# Data Cleaning\n",
    "For regression, we need to filter out certain schools who do not fit our analysis (like a certain amount of Black/white students or school suspensions)"
   ]
  },
  {
   "attachments": {},
   "cell_type": "markdown",
   "id": "0df7ccfd-22ab-48d0-8d9b-e325adb00db8",
   "metadata": {},
   "source": [
    "### Standard Python and R imports"
   ]
  },
  {
   "cell_type": "code",
   "execution_count": 1,
   "id": "1952d3fd-b580-43cc-b139-398d37ec8edd",
   "metadata": {},
   "outputs": [],
   "source": [
    "%load_ext rpy2.ipython\n",
    "%load_ext autoreload\n",
    "%autoreload 2\n",
    "\n",
    "%matplotlib inline  \n",
    "from matplotlib import rcParams\n",
    "rcParams['figure.figsize'] = (16, 100)\n",
    "\n",
    "import warnings\n",
    "from rpy2.rinterface import RRuntimeWarning\n",
    "warnings.filterwarnings(\"ignore\") # Ignore all warnings\n",
    "# warnings.filterwarnings(\"ignore\", category=RRuntimeWarning) # Show some warnings\n",
    "\n",
    "import pandas as pd\n",
    "import numpy as np\n",
    "import matplotlib.pyplot as plt\n",
    "from IPython.display import display, HTML"
   ]
  },
  {
   "cell_type": "code",
   "execution_count": 2,
   "id": "082eb0ce-240b-474d-a82f-ec05840741a1",
   "metadata": {},
   "outputs": [
    {
     "name": "stdout",
     "output_type": "stream",
     "text": [
      "── Attaching core tidyverse packages ──────────────────────── tidyverse 2.0.0 ──\n",
      "✔ dplyr     1.1.4     ✔ readr     2.1.5\n",
      "✔ forcats   1.0.0     ✔ stringr   1.5.1\n",
      "✔ ggplot2   3.5.1     ✔ tibble    3.2.1\n",
      "✔ lubridate 1.9.4     ✔ tidyr     1.3.1\n",
      "✔ purrr     1.0.4     \n",
      "── Conflicts ────────────────────────────────────────── tidyverse_conflicts() ──\n",
      "✖ dplyr::filter() masks stats::filter()\n",
      "✖ dplyr::lag()    masks stats::lag()\n",
      "ℹ Use the conflicted package (<http://conflicted.r-lib.org/>) to force all conflicts to become errors\n"
     ]
    },
    {
     "data": {
      "text/plain": [
       "Loading required package: tidyverse\n",
       "Loading required package: broom\n",
       "Loading required package: GGally\n",
       "Registered S3 method overwritten by 'GGally':\n",
       "  method from   \n",
       "  +.gg   ggplot2\n"
      ]
     },
     "metadata": {},
     "output_type": "display_data"
    }
   ],
   "source": [
    "%%R\n",
    "\n",
    "# My commonly used R imports\n",
    "\n",
    "require('tidyverse')\n",
    "require('broom')\n",
    "require('GGally')"
   ]
  },
  {
   "cell_type": "markdown",
   "id": "17b5c9da-b47e-4818-aaed-c630eb0b4bbc",
   "metadata": {},
   "source": [
    "## Read in data"
   ]
  },
  {
   "cell_type": "code",
   "execution_count": 3,
   "id": "668957e8-a441-4bce-b15f-8d2ebf4fb7f0",
   "metadata": {},
   "outputs": [
    {
     "data": {
      "text/plain": [
       "data.table 1.17.0 using 4 threads (see ?getDTthreads).  Latest news: r-datatable.com\n",
       "\n",
       "Attaching package: ‘data.table’\n",
       "\n",
       "The following objects are masked from ‘package:lubridate’:\n",
       "\n",
       "    hour, isoweek, mday, minute, month, quarter, second, wday, week,\n",
       "    yday, year\n",
       "\n",
       "The following objects are masked from ‘package:dplyr’:\n",
       "\n",
       "    between, first, last\n",
       "\n",
       "The following object is masked from ‘package:purrr’:\n",
       "\n",
       "    transpose\n",
       "\n"
      ]
     },
     "metadata": {},
     "output_type": "display_data"
    }
   ],
   "source": [
    "%%R\n",
    "library(data.table)\n",
    "\n",
    "# Import data with R\n",
    "df <- fread('../data/final_data.csv')\n",
    "lunch_program <- fread('../data/ccd_sch_033_2122_l_1a_071722/ccd_sch_033_2122_l_1a_071722.csv') "
   ]
  },
  {
   "cell_type": "code",
   "execution_count": 4,
   "id": "361e6d2f-63a9-44f4-9149-a60ff6fb1b31",
   "metadata": {},
   "outputs": [
    {
     "name": "stdout",
     "output_type": "stream",
     "text": [
      "`summarise()` has grouped output by 'SCHID'. You can override using the\n",
      "`.groups` argument.\n"
     ]
    }
   ],
   "source": [
    "%%R\n",
    "\n",
    "lunch_program <- lunch_program %>% \n",
    "  mutate(LEAID = as.character(LEAID),\n",
    "        SCHID = as.numeric(str_sub(SCHID, -5))) %>% \n",
    "  filter(LUNCH_PROGRAM %in% c('Reduced-price lunch qualified', 'Free lunch qualified')) %>% \n",
    "  group_by(SCHID, LEAID) %>% \n",
    "  summarize(red_free_lunch = sum(STUDENT_COUNT, na.rm = TRUE))"
   ]
  },
  {
   "cell_type": "markdown",
   "id": "e8d4f5bf-fa59-47f2-b276-339f7e3226fe",
   "metadata": {},
   "source": [
    "#### Replace all 'null' values in the data according to data dictionary with NA"
   ]
  },
  {
   "cell_type": "code",
   "execution_count": 5,
   "id": "31fa97f4-f09c-4f58-99ff-c8efd4098726",
   "metadata": {},
   "outputs": [],
   "source": [
    "%%R\n",
    "values_to_replace <- c(-3, -4, -5, -6, -9,-12,-13)\n",
    "\n",
    "df_clean <- df %>% \n",
    "        mutate(across(everything(), ~ replace(.x, .x %in% values_to_replace, NA))) "
   ]
  },
  {
   "cell_type": "markdown",
   "id": "1c545ce8-7b12-4e27-91c6-27754d8d5003",
   "metadata": {},
   "source": [
    "#### Join df and free/reduced lunch"
   ]
  },
  {
   "cell_type": "code",
   "execution_count": 6,
   "id": "a6363ace-dac9-4fc8-8408-2041cc5ea2b4",
   "metadata": {},
   "outputs": [],
   "source": [
    "%%R\n",
    "\n",
    "df_clean <- df_clean %>% left_join(lunch_program, by = join_by(SCHID, LEAID))"
   ]
  },
  {
   "cell_type": "markdown",
   "id": "c66eca55-1bf2-4945-a704-540fa70ec644",
   "metadata": {},
   "source": [
    "#### Check if join looks okay\n"
   ]
  },
  {
   "cell_type": "code",
   "execution_count": 7,
   "id": "9e646794-5901-46a8-95bb-d8f749cfde33",
   "metadata": {},
   "outputs": [
    {
     "name": "stdout",
     "output_type": "stream",
     "text": [
      "       n\n",
      " <int>\n",
      "  3131\n"
     ]
    }
   ],
   "source": [
    "%%R\n",
    "\n",
    "df_clean %>% filter(is.na(red_free_lunch)) %>% select(SCHID, LEAID, red_free_lunch) %>% count()\n",
    "# 3K is an acceptable miss\n"
   ]
  },
  {
   "cell_type": "code",
   "execution_count": 8,
   "id": "0e5bf9fd-1d0e-4cda-b1ee-54d0f6f10b86",
   "metadata": {},
   "outputs": [
    {
     "name": "stdout",
     "output_type": "stream",
     "text": [
      "    SCHID  LEAID red_free_lunch\n",
      " <num> <char>          <int>\n",
      " 99995 100002             NA\n",
      " 99998 100033             NA\n",
      " 99999 100033             NA\n",
      " 99999 100330             NA\n",
      " 99998 100360             NA\n",
      " 99999 100840             NA\n",
      "  1634 101230             NA\n",
      " 99998 101290             NA\n",
      " 99999 101740             NA\n",
      "   910 200180             NA\n"
     ]
    }
   ],
   "source": [
    "%%R\n",
    "\n",
    "df_clean %>% filter(is.na(red_free_lunch)) %>% select(SCHID, LEAID, red_free_lunch) %>% head(10)\n"
   ]
  },
  {
   "cell_type": "markdown",
   "id": "8d4edfbd-96f0-47a5-9ac2-0cb3af37eaa6",
   "metadata": {},
   "source": [
    "### Filter data"
   ]
  },
  {
   "cell_type": "code",
   "execution_count": 31,
   "id": "09be587d-341e-4407-b240-61dc556589c4",
   "metadata": {},
   "outputs": [],
   "source": [
    "%%R -o df_filtered\n",
    "\n",
    "# filter data for schools applicable to analysis of Black/white student suspension ratio\n",
    "# mostly ensuring that there are enough Black and white students to adequately compate\n",
    "\n",
    "df_filtered <- df_clean %>% \n",
    "mutate(\n",
    "  black_student_suspension_total = rowSums(across(c(\n",
    "    SCH_DISCWODIS_SINGOOS_BL_M,\n",
    "    SCH_DISCWODIS_SINGOOS_BL_F,\n",
    "    SCH_DISCWODIS_MULTOOS_BL_M,\n",
    "    SCH_DISCWODIS_MULTOOS_BL_F,\n",
    "    SCH_DISCWDIS_SINGOOS_IDEA_BL_M,\n",
    "    SCH_DISCWDIS_SINGOOS_IDEA_BL_F,\n",
    "    SCH_DISCWDIS_MULTOOS_IDEA_BL_M,\n",
    "    SCH_DISCWDIS_MULTOOS_IDEA_BL_F\n",
    "  )), na.rm = TRUE),\n",
    "  \n",
    "  white_student_suspension_total = rowSums(across(c(\n",
    "    SCH_DISCWODIS_SINGOOS_WH_M,\n",
    "    SCH_DISCWODIS_SINGOOS_WH_F,\n",
    "    SCH_DISCWODIS_MULTOOS_WH_M,\n",
    "    SCH_DISCWODIS_MULTOOS_WH_F,\n",
    "    SCH_DISCWDIS_SINGOOS_IDEA_WH_M,\n",
    "    SCH_DISCWDIS_SINGOOS_IDEA_WH_F,\n",
    "    SCH_DISCWDIS_MULTOOS_IDEA_WH_M,\n",
    "    SCH_DISCWDIS_MULTOOS_IDEA_WH_F\n",
    "  )), na.rm = TRUE),\n",
    "  \n",
    "  black_student_pop = rowSums(across(c(SCH_ENR_BL_M, SCH_ENR_BL_F)), na.rm = TRUE),\n",
    "  white_student_pop = rowSums(across(c(SCH_ENR_WH_M, SCH_ENR_WH_F)), na.rm = TRUE)\n",
    ") %>%\n",
    "# filter for schools fit for analysis\n",
    "filter(black_student_pop > 5, # more than 0 black students\n",
    "          white_student_pop > 5, # more than 0 white students\n",
    "           black_student_suspension_total > 1, # more than 1 black out of school suspension\n",
    "           white_student_suspension_total > 1 # more than 1 white out of school suspension\n",
    "          # SCH_DISCWODIS_ISS_BL_M / SCH_ENR_BL_M > 0,\n",
    "          #  SCH_DISCWODIS_ISS_BL_M / SCH_ENR_BL_M <= 1,\n",
    "          # SCH_DISCWODIS_ISS_WH_M / SCH_ENR_WH_M > 0,\n",
    "          #   SCH_DISCWODIS_ISS_WH_M / SCH_ENR_WH_M <= 1\n",
    ") %>%\n",
    "# create variables for analysis\n",
    "mutate(\n",
    "    # get ratio of black to white student suspensions -- main variable\n",
    "    susp_black_white_ratio = (black_student_suspension_total / black_student_pop) / (white_student_suspension_total / white_student_pop),\n",
    "    # get black/whit school population ratio\n",
    "            black_white_pop_ratio = black_student_pop / (black_student_pop + white_student_pop),\n",
    "    # get total school population\n",
    "           school_pop = rowSums(select(., SCH_ENR_HI_M, SCH_ENR_HI_F, SCH_ENR_HI_X,\n",
    "                                           SCH_ENR_AM_M, SCH_ENR_AM_F, SCH_ENR_AM_X,\n",
    "                                           SCH_ENR_AS_M, SCH_ENR_AS_F, SCH_ENR_AS_X,\n",
    "                                           SCH_ENR_HP_M, SCH_ENR_HP_F, SCH_ENR_HP_X,\n",
    "                                           SCH_ENR_BL_M, SCH_ENR_BL_F, SCH_ENR_BL_X,\n",
    "                                           SCH_ENR_WH_M, SCH_ENR_WH_F, SCH_ENR_WH_X,\n",
    "                                           SCH_ENR_TR_M, SCH_ENR_TR_F, SCH_ENR_TR_X),\n",
    "                                 na.rm = TRUE),\n",
    "    # get total ,male population\n",
    "           male_school_pop = rowSums(select(., SCH_ENR_HI_M,\n",
    "                                           SCH_ENR_AM_M, \n",
    "                                           SCH_ENR_AS_M,\n",
    "                                           SCH_ENR_HP_M, \n",
    "                                           SCH_ENR_BL_M,\n",
    "                                           SCH_ENR_WH_M, \n",
    "                                           SCH_ENR_TR_M),\n",
    "                                 na.rm = TRUE),\n",
    "# get teacher-student ratio\n",
    "teacher_prop = (SCH_FTETEACH_TOT / school_pop) ,\n",
    "              cert_teacher_prop = SCH_FTETEACH_CERT / SCH_FTETEACH_TOT,  # certified teachers / teachers\n",
    "              counc_prop = SCH_FTECOUNSELORS / school_pop,  # councelors / school pop\n",
    "            law_prop = SCH_FTESECURITY_LEO / school_pop, # LEA / school pop\n",
    "            security_pop = SCH_FTESECURITY_GUA / school_pop ,  # security / school pop\n",
    "              security_pop_bool = factor(ifelse(SCH_FTESECURITY_LEO > 0, 1,0)) # security bool\n",
    "      ) %>%\n",
    "mutate(\n",
    "    # get overall suspensions per student (black and white only)\n",
    "    total_susp_per_pop = (black_student_suspension_total + white_student_suspension_total) / (black_student_pop + white_student_pop),\n",
    "    reduced_free_lunch_prop = red_free_lunch / school_pop,\n",
    "    male_prop = male_school_pop / school_pop\n",
    ") %>%\n",
    " select(\n",
    "     SCHID, \n",
    "     LEAID,\n",
    "     SCH_NAME, \n",
    "     LEA_STATE_NAME_x,\n",
    "     white_student_suspension_total,\n",
    "     black_student_suspension_total,\n",
    "     black_student_pop,\n",
    "     white_student_pop,\n",
    "    susp_black_white_ratio,\n",
    "    gini_inequality,\n",
    "    med_hh_inc,\n",
    "    white_prop,\n",
    "    bach_plus_prop,\n",
    "    SCH_GRADE_PS,\n",
    "    SCH_GRADE_KG,\n",
    "    SCH_GRADE_G06,\n",
    "    SCH_GRADE_G07,\n",
    "    SCH_GRADE_G08,\n",
    "    SCH_GRADE_G09,\n",
    "    SCH_GRADE_G10,\n",
    "    SCH_GRADE_G11,\n",
    "    SCH_GRADE_G12,\n",
    "    SCH_SSCLASSES_IND,\n",
    "    SCH_GT_IND,\n",
    "    SCH_IBENR_IND,\n",
    "    SCH_APSEL,\n",
    "    teacher_prop,\n",
    "    security_pop_bool,\n",
    "    security_pop,\n",
    "    law_prop,\n",
    "    counc_prop,\n",
    "    cert_teacher_prop,\n",
    "    total_susp_per_pop,\n",
    "    school_pop,\n",
    "    reduced_free_lunch_prop,\n",
    "     male_prop,\n",
    "    black_white_pop_ratio\n",
    "  )\n"
   ]
  },
  {
   "cell_type": "code",
   "execution_count": 32,
   "id": "77ab3f30-0d58-4b37-8d2e-44575dfd69a3",
   "metadata": {},
   "outputs": [],
   "source": [
    "%%R\n",
    "\n",
    "write_csv(df_filtered, \"../data/final_data_filtered.csv\")"
   ]
  },
  {
   "cell_type": "code",
   "execution_count": 23,
   "id": "1bc29598-0aa9-4b3b-bcec-2c71c2883db3",
   "metadata": {},
   "outputs": [
    {
     "data": {
      "text/plain": [
       "(22147, 36)"
      ]
     },
     "execution_count": 23,
     "metadata": {},
     "output_type": "execute_result"
    }
   ],
   "source": [
    "df_filtered.shape"
   ]
  },
  {
   "cell_type": "code",
   "execution_count": 18,
   "id": "2b69062e-1976-4637-90cc-2f3af99ec449",
   "metadata": {},
   "outputs": [],
   "source": [
    "%%R -o df_nyc\n",
    "\n",
    "# filter data for schools applicable to analysis of Black/white student suspension ratio\n",
    "# mostly ensuring that there are enough Black and white students to adequately compate\n",
    "\n",
    "df_nyc <- df_clean %>% \n",
    "  filter(LEA_NAME_x == \"NEW YORK CITY PUBLIC SCHOOLS\") %>%\n",
    "mutate(\n",
    "  black_student_suspension_total = rowSums(across(c(\n",
    "    SCH_DISCWODIS_SINGOOS_BL_M,\n",
    "    SCH_DISCWODIS_SINGOOS_BL_F,\n",
    "    SCH_DISCWODIS_MULTOOS_BL_M,\n",
    "    SCH_DISCWODIS_MULTOOS_BL_F,\n",
    "    SCH_DISCWDIS_SINGOOS_IDEA_BL_M,\n",
    "    SCH_DISCWDIS_SINGOOS_IDEA_BL_F,\n",
    "    SCH_DISCWDIS_MULTOOS_IDEA_BL_M,\n",
    "    SCH_DISCWDIS_MULTOOS_IDEA_BL_F\n",
    "  )), na.rm = TRUE),\n",
    "  \n",
    "  white_student_suspension_total = rowSums(across(c(\n",
    "    SCH_DISCWODIS_SINGOOS_WH_M,\n",
    "    SCH_DISCWODIS_SINGOOS_WH_F,\n",
    "    SCH_DISCWODIS_MULTOOS_WH_M,\n",
    "    SCH_DISCWODIS_MULTOOS_WH_F,\n",
    "    SCH_DISCWDIS_SINGOOS_IDEA_WH_M,\n",
    "    SCH_DISCWDIS_SINGOOS_IDEA_WH_F,\n",
    "    SCH_DISCWDIS_MULTOOS_IDEA_WH_M,\n",
    "    SCH_DISCWDIS_MULTOOS_IDEA_WH_F\n",
    "  )), na.rm = TRUE),\n",
    "  \n",
    "  black_student_pop = rowSums(across(c(SCH_ENR_BL_M, SCH_ENR_BL_F)), na.rm = TRUE),\n",
    "  white_student_pop = rowSums(across(c(SCH_ENR_WH_M, SCH_ENR_WH_F)), na.rm = TRUE)\n",
    ") %>%\n",
    "\n",
    "\n",
    "# create variables for analysis\n",
    "mutate(\n",
    "    # get ratio of black to white student suspensions -- main variable\n",
    "    susp_black_white_ratio = (black_student_suspension_total / black_student_pop) / (white_student_suspension_total / white_student_pop),\n",
    "    # get black/whit school population ratio\n",
    "            black_white_pop_ratio = black_student_pop / (black_student_pop + white_student_pop),\n",
    "    # get total school population\n",
    "           school_pop = rowSums(select(., SCH_ENR_HI_M, SCH_ENR_HI_F, SCH_ENR_HI_X,\n",
    "                                           SCH_ENR_AM_M, SCH_ENR_AM_F, SCH_ENR_AM_X,\n",
    "                                           SCH_ENR_AS_M, SCH_ENR_AS_F, SCH_ENR_AS_X,\n",
    "                                           SCH_ENR_HP_M, SCH_ENR_HP_F, SCH_ENR_HP_X,\n",
    "                                           SCH_ENR_BL_M, SCH_ENR_BL_F, SCH_ENR_BL_X,\n",
    "                                           SCH_ENR_WH_M, SCH_ENR_WH_F, SCH_ENR_WH_X,\n",
    "                                           SCH_ENR_TR_M, SCH_ENR_TR_F, SCH_ENR_TR_X),\n",
    "                                 na.rm = TRUE),\n",
    "    # get total ,male population\n",
    "           male_school_pop = rowSums(select(., SCH_ENR_HI_M,\n",
    "                                           SCH_ENR_AM_M, \n",
    "                                           SCH_ENR_AS_M,\n",
    "                                           SCH_ENR_HP_M, \n",
    "                                           SCH_ENR_BL_M,\n",
    "                                           SCH_ENR_WH_M, \n",
    "                                           SCH_ENR_TR_M),\n",
    "                                 na.rm = TRUE),\n",
    "# get teacher-student ratio\n",
    "teacher_prop = (SCH_FTETEACH_TOT / school_pop) ,\n",
    "              cert_teacher_prop = SCH_FTETEACH_CERT / SCH_FTETEACH_TOT,  # certified teachers / teachers\n",
    "              counc_prop = SCH_FTECOUNSELORS / school_pop,  # councelors / school pop\n",
    "            law_prop = SCH_FTESECURITY_LEO / school_pop, # LEA / school pop\n",
    "            security_pop = SCH_FTESECURITY_GUA / school_pop ,  # security / school pop\n",
    "              security_pop_bool = factor(ifelse(SCH_FTESECURITY_LEO > 0, 1,0)) # security bool\n",
    "      ) %>%\n",
    "mutate(\n",
    "    # get overall suspensions per student (black and white only)\n",
    "    total_susp_per_pop = (black_student_suspension_total + white_student_suspension_total) / (black_student_pop + white_student_pop),\n",
    "    reduced_free_lunch_prop = red_free_lunch / school_pop,\n",
    "    male_prop = male_school_pop / school_pop\n",
    ") %>%\n",
    " select(\n",
    "     SCHID, \n",
    "     LEAID,\n",
    "     SCH_NAME, \n",
    "     LEA_STATE_NAME_x,\n",
    "     LEA_ZIP,\n",
    "     white_student_suspension_total,\n",
    "     black_student_suspension_total,\n",
    "     black_student_pop,\n",
    "     white_student_pop,\n",
    "    susp_black_white_ratio,\n",
    "    gini_inequality,\n",
    "    med_hh_inc,\n",
    "    white_prop,\n",
    "    bach_plus_prop,\n",
    "    SCH_GRADE_PS,\n",
    "    SCH_GRADE_KG,\n",
    "    SCH_GRADE_G06,\n",
    "    SCH_GRADE_G07,\n",
    "    SCH_GRADE_G08,\n",
    "    SCH_GRADE_G09,\n",
    "    SCH_GRADE_G10,\n",
    "    SCH_GRADE_G11,\n",
    "    SCH_GRADE_G12,\n",
    "    SCH_SSCLASSES_IND,\n",
    "    SCH_GT_IND,\n",
    "    SCH_IBENR_IND,\n",
    "    SCH_APSEL,\n",
    "    teacher_prop,\n",
    "    security_pop_bool,\n",
    "    security_pop,\n",
    "    law_prop,\n",
    "    counc_prop,\n",
    "    cert_teacher_prop,\n",
    "    total_susp_per_pop,\n",
    "    school_pop,\n",
    "    reduced_free_lunch_prop,\n",
    "     male_prop,\n",
    "    black_white_pop_ratio\n",
    "  )\n"
   ]
  },
  {
   "cell_type": "code",
   "execution_count": 14,
   "id": "715d8399-e67a-4607-8162-d4a49ead8d27",
   "metadata": {},
   "outputs": [
    {
     "data": {
      "text/plain": [
       "(1590, 37)"
      ]
     },
     "execution_count": 14,
     "metadata": {},
     "output_type": "execute_result"
    }
   ],
   "source": [
    "df_nyc.shape"
   ]
  },
  {
   "cell_type": "code",
   "execution_count": 19,
   "id": "de839222-90e3-4efd-96b3-41ca44504ac2",
   "metadata": {},
   "outputs": [],
   "source": [
    "%%R\n",
    "\n",
    "write_csv(df_nyc, \"../data/nyc_final_data_filtered.csv\")"
   ]
  },
  {
   "cell_type": "code",
   "execution_count": null,
   "id": "3893dc24-3bc6-4ea0-a515-a98a9dcdfbda",
   "metadata": {},
   "outputs": [],
   "source": []
  }
 ],
 "metadata": {
  "kernelspec": {
   "display_name": "Python 3 (ipykernel)",
   "language": "python",
   "name": "python3"
  },
  "language_info": {
   "codemirror_mode": {
    "name": "ipython",
    "version": 3
   },
   "file_extension": ".py",
   "mimetype": "text/x-python",
   "name": "python",
   "nbconvert_exporter": "python",
   "pygments_lexer": "ipython3",
   "version": "3.12.7"
  }
 },
 "nbformat": 4,
 "nbformat_minor": 5
}
